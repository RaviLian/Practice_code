{
 "cells": [
  {
   "cell_type": "code",
   "execution_count": 1,
   "id": "infinite-peripheral",
   "metadata": {
    "ExecuteTime": {
     "end_time": "2021-04-01T04:41:54.964692Z",
     "start_time": "2021-04-01T04:41:54.953049Z"
    }
   },
   "outputs": [
    {
     "data": {
      "text/plain": [
       "tensor([0, 1, 2, 3, 4])"
      ]
     },
     "execution_count": 1,
     "metadata": {},
     "output_type": "execute_result"
    }
   ],
   "source": [
    "import torch\n",
    "x = torch.arange(5)\n",
    "x"
   ]
  },
  {
   "cell_type": "code",
   "execution_count": 2,
   "id": "exotic-prediction",
   "metadata": {
    "ExecuteTime": {
     "end_time": "2021-04-01T04:41:59.738491Z",
     "start_time": "2021-04-01T04:41:59.732889Z"
    }
   },
   "outputs": [
    {
     "data": {
      "text/plain": [
       "5"
      ]
     },
     "execution_count": 2,
     "metadata": {},
     "output_type": "execute_result"
    }
   ],
   "source": [
    "# 可以使用Python内置函数求tensor向量的长度\n",
    "len(x)"
   ]
  },
  {
   "cell_type": "code",
   "execution_count": 3,
   "id": "resistant-connecticut",
   "metadata": {
    "ExecuteTime": {
     "end_time": "2021-04-01T04:43:27.522662Z",
     "start_time": "2021-04-01T04:43:27.516697Z"
    }
   },
   "outputs": [
    {
     "data": {
      "text/plain": [
       "torch.Size([5])"
      ]
     },
     "execution_count": 3,
     "metadata": {},
     "output_type": "execute_result"
    }
   ],
   "source": [
    "# 形状（shape）是一个元组，列出了张量沿每个轴的长度（维数）。对于(只有一个轴的张量，形状只有一个元素。)\n",
    "x.shape"
   ]
  },
  {
   "cell_type": "code",
   "execution_count": 4,
   "id": "painted-myanmar",
   "metadata": {
    "ExecuteTime": {
     "end_time": "2021-04-01T04:44:10.607748Z",
     "start_time": "2021-04-01T04:44:10.600565Z"
    }
   },
   "outputs": [
    {
     "data": {
      "text/plain": [
       "tensor([[ 0,  1,  2,  3],\n",
       "        [ 4,  5,  6,  7],\n",
       "        [ 8,  9, 10, 11],\n",
       "        [12, 13, 14, 15],\n",
       "        [16, 17, 18, 19]])"
      ]
     },
     "execution_count": 4,
     "metadata": {},
     "output_type": "execute_result"
    }
   ],
   "source": [
    "A = torch.arange(20).reshape(5, 4)\n",
    "A"
   ]
  },
  {
   "cell_type": "code",
   "execution_count": 7,
   "id": "reverse-dining",
   "metadata": {
    "ExecuteTime": {
     "end_time": "2021-04-01T04:53:09.550741Z",
     "start_time": "2021-04-01T04:53:09.544636Z"
    }
   },
   "outputs": [
    {
     "data": {
      "text/plain": [
       "tensor([[  0,   1,   4,   9],\n",
       "        [ 16,  25,  36,  49],\n",
       "        [ 64,  81, 100, 121],\n",
       "        [144, 169, 196, 225],\n",
       "        [256, 289, 324, 361]])"
      ]
     },
     "execution_count": 7,
     "metadata": {},
     "output_type": "execute_result"
    }
   ],
   "source": [
    "B = A.clone()\n",
    "# 两个矩阵的按元素乘法称为 哈达玛积\n",
    "A * B"
   ]
  },
  {
   "cell_type": "code",
   "execution_count": 8,
   "id": "signal-discount",
   "metadata": {
    "ExecuteTime": {
     "end_time": "2021-04-01T04:53:16.820215Z",
     "start_time": "2021-04-01T04:53:16.814025Z"
    }
   },
   "outputs": [
    {
     "data": {
      "text/plain": [
       "tensor([[ 0,  1,  2,  3],\n",
       "        [ 4,  5,  6,  7],\n",
       "        [ 8,  9, 10, 11],\n",
       "        [12, 13, 14, 15],\n",
       "        [16, 17, 18, 19]])"
      ]
     },
     "execution_count": 8,
     "metadata": {},
     "output_type": "execute_result"
    }
   ],
   "source": [
    "A"
   ]
  },
  {
   "cell_type": "code",
   "execution_count": 6,
   "id": "czech-beauty",
   "metadata": {
    "ExecuteTime": {
     "end_time": "2021-04-01T04:48:52.502935Z",
     "start_time": "2021-04-01T04:48:52.496544Z"
    }
   },
   "outputs": [
    {
     "data": {
      "text/plain": [
       "(tensor([40, 45, 50, 55]),\n",
       " torch.Size([4]),\n",
       " tensor([ 6, 22, 38, 54, 70]),\n",
       " torch.Size([5]))"
      ]
     },
     "execution_count": 6,
     "metadata": {},
     "output_type": "execute_result"
    }
   ],
   "source": [
    "# 按轴进行累加\n",
    "A_sum_axis_0 = A.sum(axis = 0)\n",
    "A_sum_axis_1 = A.sum(axis = 1)\n",
    "A_sum_axis_0, A_sum_axis_0.shape, A_sum_axis_1, A_sum_axis_1.shape"
   ]
  },
  {
   "cell_type": "code",
   "execution_count": 15,
   "id": "touched-spell",
   "metadata": {
    "ExecuteTime": {
     "end_time": "2021-04-01T05:01:07.029762Z",
     "start_time": "2021-04-01T05:01:07.021521Z"
    }
   },
   "outputs": [
    {
     "data": {
      "text/plain": [
       "tensor([[[ 0.,  1.,  2.,  3.,  4.],\n",
       "         [ 5.,  6.,  7.,  8.,  9.],\n",
       "         [10., 11., 12., 13., 14.],\n",
       "         [15., 16., 17., 18., 19.]],\n",
       "\n",
       "        [[20., 21., 22., 23., 24.],\n",
       "         [25., 26., 27., 28., 29.],\n",
       "         [30., 31., 32., 33., 34.],\n",
       "         [35., 36., 37., 38., 39.]],\n",
       "\n",
       "        [[40., 41., 42., 43., 44.],\n",
       "         [45., 46., 47., 48., 49.],\n",
       "         [50., 51., 52., 53., 54.],\n",
       "         [55., 56., 57., 58., 59.]]])"
      ]
     },
     "execution_count": 15,
     "metadata": {},
     "output_type": "execute_result"
    }
   ],
   "source": [
    "C = torch.arange(20 * 3, dtype=torch.float32).reshape(3, 4, 5)\n",
    "C"
   ]
  },
  {
   "cell_type": "code",
   "execution_count": 16,
   "id": "inclusive-syracuse",
   "metadata": {
    "ExecuteTime": {
     "end_time": "2021-04-01T05:01:10.458866Z",
     "start_time": "2021-04-01T05:01:10.451942Z"
    }
   },
   "outputs": [
    {
     "data": {
      "text/plain": [
       "(tensor([[ 30.,  34.,  38.,  42.,  46.],\n",
       "         [110., 114., 118., 122., 126.],\n",
       "         [190., 194., 198., 202., 206.]]),\n",
       " torch.Size([3, 5]))"
      ]
     },
     "execution_count": 16,
     "metadata": {},
     "output_type": "execute_result"
    }
   ],
   "source": [
    "# axis 对应torch.Size()中的维度\n",
    "C_sum_axis_1 = C.sum(axis = 1)\n",
    "C_sum_axis_1, C_sum_axis_1.shape"
   ]
  },
  {
   "cell_type": "code",
   "execution_count": 17,
   "id": "pregnant-railway",
   "metadata": {
    "ExecuteTime": {
     "end_time": "2021-04-01T05:01:13.037680Z",
     "start_time": "2021-04-01T05:01:13.030912Z"
    }
   },
   "outputs": [
    {
     "data": {
      "text/plain": [
       "(tensor([330., 342., 354., 366., 378.]), torch.Size([5]))"
      ]
     },
     "execution_count": 17,
     "metadata": {},
     "output_type": "execute_result"
    }
   ],
   "source": [
    "# 由此推理按两个维度求和，剩余维数\n",
    "C_sum_axis_0_1 = C.sum(axis = [0, 1])\n",
    "C_sum_axis_0_1, C_sum_axis_0_1.shape"
   ]
  },
  {
   "cell_type": "code",
   "execution_count": 18,
   "id": "attractive-income",
   "metadata": {
    "ExecuteTime": {
     "end_time": "2021-04-01T05:01:15.820894Z",
     "start_time": "2021-04-01T05:01:15.813209Z"
    }
   },
   "outputs": [
    {
     "data": {
      "text/plain": [
       "(tensor(29.5000), tensor(29.5000))"
      ]
     },
     "execution_count": 18,
     "metadata": {},
     "output_type": "execute_result"
    }
   ],
   "source": [
    "# 求均值\n",
    "C.mean(), C.sum() / C.numel()"
   ]
  },
  {
   "cell_type": "code",
   "execution_count": 20,
   "id": "humanitarian-tract",
   "metadata": {
    "ExecuteTime": {
     "end_time": "2021-04-01T05:02:36.865817Z",
     "start_time": "2021-04-01T05:02:36.857380Z"
    }
   },
   "outputs": [
    {
     "data": {
      "text/plain": [
       "(tensor([[20., 21., 22., 23., 24.],\n",
       "         [25., 26., 27., 28., 29.],\n",
       "         [30., 31., 32., 33., 34.],\n",
       "         [35., 36., 37., 38., 39.]]),\n",
       " tensor([[20., 21., 22., 23., 24.],\n",
       "         [25., 26., 27., 28., 29.],\n",
       "         [30., 31., 32., 33., 34.],\n",
       "         [35., 36., 37., 38., 39.]]),\n",
       " 3)"
      ]
     },
     "execution_count": 20,
     "metadata": {},
     "output_type": "execute_result"
    }
   ],
   "source": [
    "C.mean(axis=0), C.sum(axis=0) / C.shape[0], C.shape[0]"
   ]
  },
  {
   "cell_type": "code",
   "execution_count": 23,
   "id": "balanced-opinion",
   "metadata": {
    "ExecuteTime": {
     "end_time": "2021-04-01T05:05:55.612169Z",
     "start_time": "2021-04-01T05:05:55.604072Z"
    }
   },
   "outputs": [
    {
     "data": {
      "text/plain": [
       "(tensor([[ 0.,  1.,  2.,  3.],\n",
       "         [ 4.,  5.,  6.,  7.],\n",
       "         [ 8.,  9., 10., 11.]]),\n",
       " tensor([[12., 15., 18., 21.]]),\n",
       " tensor([[ 6.],\n",
       "         [22.],\n",
       "         [38.]]))"
      ]
     },
     "execution_count": 23,
     "metadata": {},
     "output_type": "execute_result"
    }
   ],
   "source": [
    "# 计算总和或均值时保持轴数不变\n",
    "A = torch.arange(12, dtype=torch.float32).reshape(3, 4)\n",
    "sum_A_0 = A.sum(axis=0, keepdims=True)\n",
    "sum_A_1 = A.sum(axis=1, keepdims=True)\n",
    "A, sum_A_0, sum_A_1"
   ]
  },
  {
   "cell_type": "code",
   "execution_count": 24,
   "id": "dying-stock",
   "metadata": {
    "ExecuteTime": {
     "end_time": "2021-04-01T05:13:02.338065Z",
     "start_time": "2021-04-01T05:13:02.331952Z"
    }
   },
   "outputs": [
    {
     "data": {
      "text/plain": [
       "tensor([[0.0000, 0.1667, 0.3333, 0.5000],\n",
       "        [0.1818, 0.2273, 0.2727, 0.3182],\n",
       "        [0.2105, 0.2368, 0.2632, 0.2895]])"
      ]
     },
     "execution_count": 24,
     "metadata": {},
     "output_type": "execute_result"
    }
   ],
   "source": [
    "# 使用广播\n",
    "A / sum_A_1"
   ]
  },
  {
   "cell_type": "code",
   "execution_count": 28,
   "id": "likely-treaty",
   "metadata": {
    "ExecuteTime": {
     "end_time": "2021-04-01T05:17:30.288536Z",
     "start_time": "2021-04-01T05:17:30.279804Z"
    }
   },
   "outputs": [
    {
     "data": {
      "text/plain": [
       "(tensor([0., 1., 2., 3.]), tensor([1., 1., 1., 1.]), tensor(6.), tensor(6.))"
      ]
     },
     "execution_count": 28,
     "metadata": {},
     "output_type": "execute_result"
    }
   ],
   "source": [
    "# 点积dot\n",
    "x, y = torch.arange(4, dtype=torch.float32), torch.ones(4, dtype=torch.float32)\n",
    "x, y, torch.dot(x, y), torch.sum(x * y)"
   ]
  },
  {
   "cell_type": "code",
   "execution_count": 29,
   "id": "proprietary-recommendation",
   "metadata": {
    "ExecuteTime": {
     "end_time": "2021-04-01T05:18:28.571496Z",
     "start_time": "2021-04-01T05:18:28.564667Z"
    }
   },
   "outputs": [
    {
     "data": {
      "text/plain": [
       "(torch.Size([3, 4]), torch.Size([4]), tensor([14., 38., 62.]))"
      ]
     },
     "execution_count": 29,
     "metadata": {},
     "output_type": "execute_result"
    }
   ],
   "source": [
    "# 矩阵向量积\n",
    "# matrix vector\n",
    "A.shape, x.shape, torch.mv(A,x)"
   ]
  },
  {
   "cell_type": "code",
   "execution_count": 31,
   "id": "greek-rebate",
   "metadata": {
    "ExecuteTime": {
     "end_time": "2021-04-01T05:20:27.119495Z",
     "start_time": "2021-04-01T05:20:27.111287Z"
    }
   },
   "outputs": [
    {
     "data": {
      "text/plain": [
       "(tensor([[ 0.,  1.,  2.,  3.],\n",
       "         [ 4.,  5.,  6.,  7.],\n",
       "         [ 8.,  9., 10., 11.]]),\n",
       " tensor([[1., 1., 1.],\n",
       "         [1., 1., 1.],\n",
       "         [1., 1., 1.],\n",
       "         [1., 1., 1.]]),\n",
       " tensor([[ 6.,  6.,  6.],\n",
       "         [22., 22., 22.],\n",
       "         [38., 38., 38.]]))"
      ]
     },
     "execution_count": 31,
     "metadata": {},
     "output_type": "execute_result"
    }
   ],
   "source": [
    "# 矩阵乘法 Matrix Matrix\n",
    "B = torch.ones(4, 3)\n",
    "A, B, torch.mm(A, B)"
   ]
  },
  {
   "cell_type": "markdown",
   "id": "seven-closing",
   "metadata": {},
   "source": [
    "线性代数中一些最有用的运算符是 *范数*（norms）。非正式地说，一个向量的*范数*告诉我们一个向量有多大。\n",
    "这里考虑的 *大小*（size） 概念不涉及维度，而是分量的大小。\n",
    "\n",
    "在线性代数中，向量范数是将向量映射到标量的函数 $f$。向量范数要满足一些属性。\n",
    "给定任意向量 $\\mathbf{x}$，第一个性质说，如果我们按常数因子 $\\alpha$ 缩放向量的所有元素，其范数也会按相同常数因子的 *绝对值* 缩放：\n",
    "\n",
    "$$f(\\alpha \\mathbf{x}) = |\\alpha| f(\\mathbf{x}).$$\n",
    "\n",
    "第二个性质是我们熟悉的三角不等式:\n",
    "\n",
    "$$f(\\mathbf{x} + \\mathbf{y}) \\leq f(\\mathbf{x}) + f(\\mathbf{y}).$$\n",
    "\n",
    "第三个性质简单地说范数必须是非负的:\n",
    "\n",
    "$$f(\\mathbf{x}) \\geq 0.$$\n",
    "\n",
    "这是有道理的，因为在大多数情况下，任何东西的最小的*大小*是0。最后一个性质要求最小范数，并且只有由所有零组成的向量才能达到最小范数。\n",
    "\n",
    "$$\\forall i, [\\mathbf{x}]_i = 0 \\Leftrightarrow f(\\mathbf{x})=0.$$\n",
    "\n",
    "你可能会注意到，范数听起来很像距离的度量。如果你还记得小学时的欧几里得距离(想想毕达哥拉斯定理)，那么非负性的概念和三角不等式可能会给你一些启发。\n",
    "事实上，欧几里得距离是一个范数：具体而言，它是 $L_2$ 范数。假设$n$-维向量$\\mathbf{x}$中的元素是$x_1, \\ldots, x_n$ 的 [**$L_2$ *范数* 是向量元素平方和的平方根：**]\n",
    "\n",
    "(**$$\\|\\mathbf{x}\\|_2 = \\sqrt{\\sum_{i=1}^n x_i^2},$$**)\n",
    "\n",
    "其中，在 $L_2$ 范数中常常省略下标 $2$，也就是说，$\\|\\mathbf{x}\\|$ 等同于 $\\|\\mathbf{x}\\|_2$。在代码中，我们可以按如下方式计算向量的 $L_2$ 范数。"
   ]
  },
  {
   "cell_type": "code",
   "execution_count": 32,
   "id": "undefined-allah",
   "metadata": {
    "ExecuteTime": {
     "end_time": "2021-04-01T05:23:25.315250Z",
     "start_time": "2021-04-01T05:23:25.309494Z"
    }
   },
   "outputs": [
    {
     "data": {
      "text/plain": [
       "tensor(5.)"
      ]
     },
     "execution_count": 32,
     "metadata": {},
     "output_type": "execute_result"
    }
   ],
   "source": [
    "u = torch.tensor([3.0, -4.0])\n",
    "torch.norm(u)"
   ]
  },
  {
   "cell_type": "markdown",
   "id": "spoken-giant",
   "metadata": {
    "ExecuteTime": {
     "end_time": "2021-04-01T05:24:23.953175Z",
     "start_time": "2021-04-01T05:24:23.948420Z"
    }
   },
   "source": [
    "在深度学习中，我们更经常地使用平方 $L_2$ 范数。你还会经常遇到 [**$L_1$ 范数，它表示为向量元素的绝对值之和：**]\n",
    "\n",
    "(**$$\\|\\mathbf{x}\\|_1 = \\sum_{i=1}^n \\left|x_i \\right|.$$**)\n",
    "\n",
    "与 $L_2$ 范数相比，$L_1$ 范数受异常值的影响较小。为了计算 $L_1$ 范数，我们将绝对值函数和按元素求和组合起来。\n"
   ]
  },
  {
   "cell_type": "code",
   "execution_count": 35,
   "id": "forbidden-jimmy",
   "metadata": {
    "ExecuteTime": {
     "end_time": "2021-04-01T05:28:20.887101Z",
     "start_time": "2021-04-01T05:28:20.881448Z"
    }
   },
   "outputs": [
    {
     "data": {
      "text/plain": [
       "tensor(7.)"
      ]
     },
     "execution_count": 35,
     "metadata": {},
     "output_type": "execute_result"
    }
   ],
   "source": [
    "torch.abs(u).sum()"
   ]
  },
  {
   "cell_type": "markdown",
   "id": "multiple-service",
   "metadata": {},
   "source": [
    "$$\\|\\mathbf{x}\\|_p = \\left(\\sum_{i=1}^n \\left|x_i \\right|^p \\right)^{1/p}.$$\n",
    "\n",
    "类似于向量的$L_2$ 范数，[**矩阵**] $\\mathbf{X} \\in \\mathbb{R}^{m \\times n}$ (**的 *弗罗贝尼乌斯范数*（Frobenius norm） 是矩阵元素的平方和的平方根：**)\n",
    "\n",
    "(**$$\\|\\mathbf{X}\\|_F = \\sqrt{\\sum_{i=1}^m \\sum_{j=1}^n x_{ij}^2}.$$**)\n",
    "\n",
    "弗罗贝尼乌斯范数满足向量范数的所有性质。它的行为就好像它是矩阵形向量的 $L_2$ 范数。调用以下函数将计算矩阵的弗罗贝尼乌斯范数。\n"
   ]
  },
  {
   "cell_type": "code",
   "execution_count": 40,
   "id": "champion-clause",
   "metadata": {
    "ExecuteTime": {
     "end_time": "2021-04-01T05:37:49.987714Z",
     "start_time": "2021-04-01T05:37:49.980744Z"
    }
   },
   "outputs": [
    {
     "data": {
      "text/plain": [
       "(tensor([[ 0.,  1.,  2.,  3.],\n",
       "         [ 4.,  5.,  6.,  7.],\n",
       "         [ 8.,  9., 10., 11.]]),\n",
       " tensor(22.4944))"
      ]
     },
     "execution_count": 40,
     "metadata": {},
     "output_type": "execute_result"
    }
   ],
   "source": [
    "A, torch.norm(A)"
   ]
  },
  {
   "cell_type": "code",
   "execution_count": 42,
   "id": "closed-biography",
   "metadata": {
    "ExecuteTime": {
     "end_time": "2021-04-01T05:41:23.800831Z",
     "start_time": "2021-04-01T05:41:23.792303Z"
    }
   },
   "outputs": [
    {
     "name": "stdout",
     "output_type": "stream",
     "text": [
      "tensor([[  0.,   1.,   4.,   9.],\n",
      "        [ 16.,  25.,  36.,  49.],\n",
      "        [ 64.,  81., 100., 121.]])\n",
      "tensor(506.)\n"
     ]
    },
    {
     "data": {
      "text/plain": [
       "22.494443758403985"
      ]
     },
     "execution_count": 42,
     "metadata": {},
     "output_type": "execute_result"
    }
   ],
   "source": [
    "import math\n",
    "print(A * A)\n",
    "print(torch.sum(A * A))\n",
    "math.sqrt(torch.sum(A * A))"
   ]
  },
  {
   "cell_type": "code",
   "execution_count": 45,
   "id": "threaded-webster",
   "metadata": {
    "ExecuteTime": {
     "end_time": "2021-04-01T05:43:04.662528Z",
     "start_time": "2021-04-01T05:43:04.655349Z"
    }
   },
   "outputs": [
    {
     "data": {
      "text/plain": [
       "tensor([[1., 1., 1., 1.],\n",
       "        [1., 1., 1., 1.]])"
      ]
     },
     "execution_count": 45,
     "metadata": {},
     "output_type": "execute_result"
    }
   ],
   "source": [
    "D = torch.ones(2, 4)\n",
    "D"
   ]
  },
  {
   "cell_type": "code",
   "execution_count": 46,
   "id": "warming-ecology",
   "metadata": {
    "ExecuteTime": {
     "end_time": "2021-04-01T05:43:08.492711Z",
     "start_time": "2021-04-01T05:43:08.485363Z"
    }
   },
   "outputs": [
    {
     "data": {
      "text/plain": [
       "tensor(2.8284)"
      ]
     },
     "execution_count": 46,
     "metadata": {},
     "output_type": "execute_result"
    }
   ],
   "source": [
    "torch.norm(D)"
   ]
  },
  {
   "cell_type": "code",
   "execution_count": null,
   "id": "intermediate-acoustic",
   "metadata": {},
   "outputs": [],
   "source": []
  }
 ],
 "metadata": {
  "kernelspec": {
   "display_name": "Python 3",
   "language": "python",
   "name": "python3"
  },
  "language_info": {
   "codemirror_mode": {
    "name": "ipython",
    "version": 3
   },
   "file_extension": ".py",
   "mimetype": "text/x-python",
   "name": "python",
   "nbconvert_exporter": "python",
   "pygments_lexer": "ipython3",
   "version": "3.8.8"
  },
  "toc": {
   "base_numbering": 1,
   "nav_menu": {},
   "number_sections": true,
   "sideBar": true,
   "skip_h1_title": false,
   "title_cell": "Table of Contents",
   "title_sidebar": "Contents",
   "toc_cell": false,
   "toc_position": {},
   "toc_section_display": true,
   "toc_window_display": false
  },
  "varInspector": {
   "cols": {
    "lenName": 16,
    "lenType": 16,
    "lenVar": 40
   },
   "kernels_config": {
    "python": {
     "delete_cmd_postfix": "",
     "delete_cmd_prefix": "del ",
     "library": "var_list.py",
     "varRefreshCmd": "print(var_dic_list())"
    },
    "r": {
     "delete_cmd_postfix": ") ",
     "delete_cmd_prefix": "rm(",
     "library": "var_list.r",
     "varRefreshCmd": "cat(var_dic_list()) "
    }
   },
   "types_to_exclude": [
    "module",
    "function",
    "builtin_function_or_method",
    "instance",
    "_Feature"
   ],
   "window_display": false
  }
 },
 "nbformat": 4,
 "nbformat_minor": 5
}
